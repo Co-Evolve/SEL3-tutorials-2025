{
 "cells": [
  {
   "cell_type": "markdown",
   "metadata": {
    "id": "uMCyuX8mSr6O"
   },
   "source": [
    "\n",
    "# <h1><center>Brittle Star Environment Tutorial</center></h1>\n",
    "\n",
    "This notebook provides an introductory tutorial to the [Brittle Star environment](https://github.com/Co-Evolve/brt/tree/main/biorobot/brittle_star), which is part of the [**the Bio-inspired Robotics Testbed (BRT)**](https://github.com/Co-Evolve/brt).\n",
    "\n",
    "Please make sure to read the above two linked pages in order to get an understanding of the rationale behind the Bio-inspired Robotics Testbed and some more background on the brittle star environment.\n",
    "\n",
    "Preferably use a Jupyter runtime with GPU acceleration enabled.  "
   ]
  },
  {
   "cell_type": "markdown",
   "metadata": {
    "id": "fVurZ9tFTzLC"
   },
   "source": [
    "## Installation and setup "
   ]
  },
  {
   "cell_type": "markdown",
   "metadata": {
    "collapsed": false,
    "jupyter": {
     "outputs_hidden": false
    }
   },
   "source": [
    "Check if the underlying MuJoCo installation was successful. This will also check if Jax is able to find the GPU. If not, a warning will be printed."
   ]
  },
  {
   "cell_type": "code",
   "execution_count": null,
   "metadata": {
    "colab": {
     "base_uri": "https://localhost:8080/"
    },
    "editable": true,
    "id": "t8x-3cSlT-QM",
    "outputId": "4e58291d-c73d-44bd-8332-4da59915e96c",
    "slideshow": {
     "slide_type": ""
    },
    "tags": []
   },
   "outputs": [],
   "source": [
    "import logging\n",
    "import os\n",
    "import subprocess\n",
    "\n",
    "try:\n",
    "    if subprocess.run('nvidia-smi').returncode:\n",
    "        raise RuntimeError('Cannot communicate with GPU.')\n",
    "\n",
    "    # Add an ICD config so that glvnd can pick up the Nvidia EGL driver.\n",
    "    # This is usually installed as part of an Nvidia driver package, but the Colab\n",
    "    # kernel doesn't install its driver via APT, and as a result the ICD is missing.\n",
    "    # (https://github.com/NVIDIA/libglvnd/blob/master/src/EGL/icd_enumeration.md)\n",
    "    NVIDIA_ICD_CONFIG_PATH = '/usr/share/glvnd/egl_vendor.d/10_nvidia.json'\n",
    "    if not os.path.exists(NVIDIA_ICD_CONFIG_PATH):\n",
    "        with open(NVIDIA_ICD_CONFIG_PATH, 'w') as f:\n",
    "            f.write(\n",
    "                    \"\"\"{\n",
    "                            \"file_format_version\" : \"1.0.0\",\n",
    "                            \"ICD\" : {\n",
    "                                \"library_path\" : \"libEGL_nvidia.so.0\"\n",
    "                            }\n",
    "                        }\n",
    "                        \"\"\"\n",
    "                    )\n",
    "\n",
    "    # Configure MuJoCo to use the EGL rendering backend (requires GPU)\n",
    "    print('Setting environment variable to use GPU rendering:')\n",
    "    %env MUJOCO_GL=egl\n",
    "\n",
    "    # xla_flags = os.environ.get('XLA_FLAGS', '')\n",
    "    # xla_flags += ' --xla_gpu_triton_gemm_any=True'\n",
    "    # os.environ['XLA_FLAGS'] = xla_flags\n",
    "\n",
    "    # Check if jax finds the GPU\n",
    "    import jax\n",
    "\n",
    "    print(jax.devices('gpu'))\n",
    "except Exception:\n",
    "    logging.warning(\"Failed to initialize GPU. Everything will run on the cpu.\")\n",
    "\n",
    "try:\n",
    "    print('Checking that the mujoco installation succeeded:')\n",
    "    import mujoco\n",
    "\n",
    "    mujoco.MjModel.from_xml_string('<mujoco/>')\n",
    "except Exception as e:\n",
    "    raise e from RuntimeError(\n",
    "            'Something went wrong during installation. Check the shell output above '\n",
    "            'for more information.\\n'\n",
    "            'If using a hosted Colab runtime, make sure you enable GPU acceleration '\n",
    "            'by going to the Runtime menu and selecting \"Choose runtime type\".'\n",
    "            )\n",
    "\n",
    "print('MuJoCo installation successful.')"
   ]
  },
  {
   "cell_type": "markdown",
   "metadata": {
    "collapsed": false,
    "jupyter": {
     "outputs_hidden": false
    }
   },
   "source": [
    "Some packages and utility functions for visualization."
   ]
  },
  {
   "cell_type": "code",
   "execution_count": null,
   "metadata": {
    "collapsed": false,
    "jupyter": {
     "outputs_hidden": false
    }
   },
   "outputs": [],
   "source": [
    "from moojoco.environment.base import MuJoCoEnvironmentConfiguration\n",
    "from moojoco.mjcf.component import MJCFRootComponent\n",
    "import numpy as np\n",
    "import jax\n",
    "import jax.numpy as jnp\n",
    "from typing import List\n",
    "\n",
    "# Graphics and plotting.\n",
    "ffmpeg_v = !command -v ffmpeg\n",
    "assert \"command not found\" not in ffmpeg_v, f\"Please install FFmpeg for visualizations.\"\n",
    "!{sys.executable} -m pip install -q mediapy\n",
    "import mediapy as media\n",
    "\n",
    "# More legible printing from numpy.\n",
    "np.set_printoptions(precision=3, suppress=True, linewidth=100)\n",
    "jnp.set_printoptions(precision=3, suppress=True, linewidth=100)\n",
    "\n",
    "\n",
    "def visualize_mjcf(\n",
    "        mjcf: MJCFRootComponent\n",
    "        ) -> None:\n",
    "    model = mujoco.MjModel.from_xml_string(mjcf.get_mjcf_str())\n",
    "    data = mujoco.MjData(model)\n",
    "    renderer = mujoco.Renderer(model)\n",
    "    mujoco.mj_forward(model, data)\n",
    "    renderer.update_scene(data)\n",
    "    media.show_image(renderer.render())\n",
    "\n",
    "\n",
    "def post_render(\n",
    "        render_output: List[np.ndarray],\n",
    "        environment_configuration: MuJoCoEnvironmentConfiguration\n",
    "        ) -> np.ndarray:\n",
    "    if render_output is None:\n",
    "        return\n",
    "\n",
    "    num_cameras = len(environment_configuration.camera_ids)\n",
    "    num_envs = len(render_output) // num_cameras\n",
    "\n",
    "    if num_cameras > 1:\n",
    "        # Horizontally stack frames of the same environment\n",
    "        frames_per_env = np.array_split(render_output, num_envs)\n",
    "        render_output = [np.concatenate(env_frames, axis=1) for env_frames in frames_per_env]\n",
    "\n",
    "    # Vertically stack frames of different environments\n",
    "    render_output = np.concatenate(render_output, axis=0)\n",
    "\n",
    "    return render_output[:, :, ::-1]  # RGB to BGR\n",
    "\n",
    "\n",
    "def show_video(\n",
    "        images: List[np.ndarray | None]\n",
    "        ) -> str | None:\n",
    "    # Temporary workaround until https://github.com/google-deepmind/mujoco/issues/1379 is fixed\n",
    "    filtered_images = [image for image in images if image is not None]\n",
    "    num_nones = len(images) - len(filtered_images)\n",
    "    if num_nones > 0:\n",
    "        logging.warning(\n",
    "                f\"env.render produced {num_nones} None's. Resulting video might be a bit choppy (consquence of https://github.com/google-deepmind/mujoco/issues/1379).\"\n",
    "                )\n",
    "    return media.show_video(images=filtered_images)"
   ]
  },
  {
   "cell_type": "markdown",
   "metadata": {
    "id": "A3wIqNI7TycP"
   },
   "source": [
    "## Creating the brittle star environment\n",
    "\n",
    "### 1. Creating the morphology \n",
    "The first step is to create the Brittle Star morphology. In essence, this comes down to providing an instance of a [BrittleStarMorphologySpecification](https://github.com/Co-Evolve/brt/tree/main/biorobot/brittle_star/mjcf/morphology/specification/specification.py) to the [MJCFBrittleStarMorphology](https://github.com/Co-Evolve/brt/tree/main/biorobot/brittle_star/mjcf/morphology/morphology.py) class. The `MJCFBrittleStarMorphology` can then use the specified morphological parameters to generate the corresponding MuJoCo MJCF. "
   ]
  },
  {
   "cell_type": "code",
   "execution_count": null,
   "metadata": {
    "collapsed": false,
    "jupyter": {
     "outputs_hidden": false
    }
   },
   "outputs": [],
   "source": [
    "from biorobot.brittle_star.mjcf.morphology.specification.default import default_brittle_star_morphology_specification\n",
    "from biorobot.brittle_star.mjcf.morphology.morphology import MJCFBrittleStarMorphology\n",
    "from biorobot.brittle_star.mjcf.morphology.specification.specification import BrittleStarMorphologySpecification\n",
    "\n",
    "\n",
    "def create_morphology(\n",
    "        morphology_specification: BrittleStarMorphologySpecification\n",
    "        ) -> MJCFBrittleStarMorphology:\n",
    "    morphology = MJCFBrittleStarMorphology(\n",
    "            specification=morphology_specification\n",
    "            )\n",
    "    return morphology"
   ]
  },
  {
   "cell_type": "code",
   "execution_count": null,
   "metadata": {
    "id": "tWclyg93YAuw"
   },
   "outputs": [],
   "source": [
    "morphology_specification = default_brittle_star_morphology_specification(\n",
    "        num_arms=5, \n",
    "        num_segments_per_arm=4, \n",
    "        # Whether or not to use position-based control (i.e. the actuation or control inputs are target joint positions).\n",
    "        use_p_control=True,\n",
    "        # Whether or not to use torque-based control (i.e. the actuation or control inputs are target joint torques).\n",
    "        use_torque_control=False\n",
    "        )\n",
    "morphology = create_morphology(morphology_specification=morphology_specification)\n",
    "visualize_mjcf(mjcf=morphology)"
   ]
  },
  {
   "cell_type": "markdown",
   "metadata": {
    "collapsed": false,
    "jupyter": {
     "outputs_hidden": false
    }
   },
   "source": [
    "We can also specify a different amount of segments per arm."
   ]
  },
  {
   "cell_type": "code",
   "execution_count": null,
   "metadata": {
    "collapsed": false,
    "jupyter": {
     "outputs_hidden": false
    }
   },
   "outputs": [],
   "source": [
    "morphology_specification = default_brittle_star_morphology_specification(\n",
    "        num_arms=5, num_segments_per_arm=[1, 2, 3, 4, 5], use_p_control=True, use_torque_control=False\n",
    "        )\n",
    "morphology = create_morphology(morphology_specification=morphology_specification)\n",
    "visualize_mjcf(mjcf=morphology)"
   ]
  },
  {
   "cell_type": "markdown",
   "metadata": {
    "id": "FsqQr6u6Vj4O"
   },
   "source": [
    "### 2. Creating the arena\n",
    "Similarly to the morphology, the next step is to configure and create the AquariumArena in which we will put our brittle star. This arena uses a [simplified fluid model](https://mujoco.readthedocs.io/en/stable/computation/fluid.html#inertia-model) to simulate an aquatic environment."
   ]
  },
  {
   "cell_type": "code",
   "execution_count": null,
   "metadata": {
    "id": "qq9gGgDBYm7U"
   },
   "outputs": [],
   "source": [
    "from biorobot.brittle_star.mjcf.arena.aquarium import AquariumArenaConfiguration, MJCFAquariumArena\n",
    "\n",
    "\n",
    "def create_arena(\n",
    "        arena_configuration: AquariumArenaConfiguration\n",
    "        ) -> MJCFAquariumArena:\n",
    "    arena = MJCFAquariumArena(\n",
    "            configuration=arena_configuration\n",
    "            )\n",
    "    return arena"
   ]
  },
  {
   "cell_type": "code",
   "execution_count": null,
   "metadata": {
    "collapsed": false,
    "jupyter": {
     "outputs_hidden": false
    }
   },
   "outputs": [],
   "source": [
    "arena_configuration = AquariumArenaConfiguration(\n",
    "        size=(10, 5), sand_ground_color=True, attach_target=False, wall_height=1.5, wall_thickness=0.1\n",
    "        )\n",
    "arena = create_arena(arena_configuration=arena_configuration)\n",
    "visualize_mjcf(mjcf=arena)"
   ]
  },
  {
   "cell_type": "markdown",
   "metadata": {
    "id": "tCGQvuiHVo91"
   },
   "source": [
    "### 3. Creating the environment\n",
    "Now we can create the actual environment that combines the above morphology and arena. As discussed above, we have three different environment versions (each specifying a specific task) in which we can put our brittle star. Each version has a specific EnvironmentConfiguration."
   ]
  },
  {
   "cell_type": "code",
   "execution_count": null,
   "metadata": {
    "id": "YWHuHyaqZZd8"
   },
   "outputs": [],
   "source": [
    "from biorobot.brittle_star.environment.light_escape.shared import BrittleStarLightEscapeEnvironmentConfiguration\n",
    "from biorobot.brittle_star.environment.directed_locomotion.shared import \\\n",
    "    BrittleStarDirectedLocomotionEnvironmentConfiguration\n",
    "from biorobot.brittle_star.environment.undirected_locomotion.shared import \\\n",
    "    BrittleStarUndirectedLocomotionEnvironmentConfiguration\n",
    "\n",
    "locomotion_environment_configuration = BrittleStarUndirectedLocomotionEnvironmentConfiguration(\n",
    "        # If this value is > 0 then we will add randomly sampled noise to the initial joint positions and velocities \n",
    "        joint_randomization_noise_scale=0.0,\n",
    "        # Visualization mode \n",
    "        render_mode=\"rgb_array\",\n",
    "        # Number of seconds per episode \n",
    "        simulation_time=5,\n",
    "        # Number of physics substeps to do per control step \n",
    "        num_physics_steps_per_control_step=10,\n",
    "        # Integer factor by which to multiply the original physics timestep of 0.002,\n",
    "        time_scale=2,\n",
    "        # Which camera's to render (all the brittle star environments contain 2 cameras: 1 top-down camera and one close-up camera that follows the brittle star),\n",
    "        camera_ids=[0, 1],\n",
    "        # Resolution to render with ((height, width) in pixels)\n",
    "        render_size=(480, 640)\n",
    "        )\n",
    "target_locomotion_environment_configuration = BrittleStarDirectedLocomotionEnvironmentConfiguration(\n",
    "        # Distance to put our target at (targets are spawned on a circle around the starting location with this given radius).\n",
    "        target_distance=3.0,\n",
    "        joint_randomization_noise_scale=0.0,\n",
    "        render_mode=\"rgb_array\",\n",
    "        simulation_time=5,\n",
    "        num_physics_steps_per_control_step=10,\n",
    "        time_scale=2,\n",
    "        camera_ids=[0, 1],\n",
    "        render_size=(480, 640)\n",
    "        )\n",
    "light_escape_environment_configuration = BrittleStarLightEscapeEnvironmentConfiguration(\n",
    "        # If this value is > 0, we will add perlin noise to the generated light map. Otherwise, the light map is a simple linear gradient.\n",
    "        #   Please only provide integer factors of 200.\n",
    "        light_perlin_noise_scale=0,\n",
    "        joint_randomization_noise_scale=0,\n",
    "        render_mode=\"rgb_array\",\n",
    "        simulation_time=5,\n",
    "        num_physics_steps_per_control_step=10,\n",
    "        time_scale=2,\n",
    "        camera_ids=[0, 1],\n",
    "        render_size=(480, 640)\n",
    "        )"
   ]
  },
  {
   "cell_type": "markdown",
   "metadata": {
    "collapsed": false,
    "jupyter": {
     "outputs_hidden": false
    }
   },
   "source": [
    "The [environment configuration's superclass](https://github.com/Co-Evolve/moojoco/blob/main/moojoco/environment/base.py#L20) also contains some helpful utility functions. \n",
    "\n",
    "Note: we define a 'physics step' as one in which the physics is advanced, and we define a 'control step' as one in which we pass novel actions to the environment. One 'control step' can thus induce one or multiple underlying 'physics steps', and this is what the `num_physics_steps_per_control_step` parameter defines."
   ]
  },
  {
   "cell_type": "code",
   "execution_count": null,
   "metadata": {
    "collapsed": false,
    "jupyter": {
     "outputs_hidden": false
    }
   },
   "outputs": [],
   "source": [
    "print(\n",
    "        f\"[simulation_time] The total amount of time (in seconds) that one simulation episode takes: {locomotion_environment_configuration.simulation_time}\"\n",
    "        )\n",
    "print(\n",
    "        f\"[physics_timestep] The amount of time (in seconds) that one 'physics step' advances the physics: {locomotion_environment_configuration.physics_timestep}\"\n",
    "        )\n",
    "print(\n",
    "        f\"[control_timestep] The amount of time (in seconds) that one 'control step' advances the physics: {locomotion_environment_configuration.control_timestep}\"\n",
    "        )\n",
    "print(\n",
    "        f\"[total_num_physics_steps] The total amount of physics steps that happen during one simulation episode: {locomotion_environment_configuration.total_num_physics_steps}\"\n",
    "        )\n",
    "print(\n",
    "        f\"[total_num_control_steps] The total amount of control steps that happen during one simulation episode: {locomotion_environment_configuration.total_num_control_steps}\"\n",
    "        )"
   ]
  },
  {
   "cell_type": "markdown",
   "metadata": {
    "id": "fKGuNkH3WRdI"
   },
   "source": [
    "#### Creator\n",
    "We can now define a function that takes in a certain morphological specification, the arena configuration and the environment configuration and returns the actual environment. Note that we have added an additional argument to this function, `backend`, which can be used to choose between instantiating the MJC (native MuJoCo) or the MJX (JAX-based MuJoCo) implementation of the environment."
   ]
  },
  {
   "cell_type": "code",
   "execution_count": null,
   "metadata": {
    "id": "_4R9PmCtWEdJ"
   },
   "outputs": [],
   "source": [
    "from biorobot.brittle_star.environment.undirected_locomotion.dual import BrittleStarUndirectedLocomotionEnvironment\n",
    "from biorobot.brittle_star.environment.directed_locomotion.dual import BrittleStarDirectedLocomotionEnvironment\n",
    "from biorobot.brittle_star.environment.light_escape.dual import BrittleStarLightEscapeEnvironment\n",
    "from moojoco.environment.dual import DualMuJoCoEnvironment\n",
    "from moojoco.environment.base import MuJoCoEnvironmentConfiguration\n",
    "\n",
    "\n",
    "def create_environment(\n",
    "        morphology_specification: BrittleStarMorphologySpecification,\n",
    "        arena_configuration: AquariumArenaConfiguration,\n",
    "        environment_configuration: MuJoCoEnvironmentConfiguration,\n",
    "        backend: str\n",
    "        ) -> DualMuJoCoEnvironment:\n",
    "    assert backend in [\"MJC\", \"MJX\"], \"Please specify a valid backend; Either 'MJC' or 'MJX'\"\n",
    "\n",
    "    morphology = create_morphology(\n",
    "            morphology_specification=morphology_specification\n",
    "            )\n",
    "    arena = create_arena(\n",
    "            arena_configuration=arena_configuration\n",
    "            )\n",
    "    if isinstance(environment_configuration, BrittleStarUndirectedLocomotionEnvironmentConfiguration):\n",
    "        env_class = BrittleStarUndirectedLocomotionEnvironment\n",
    "    elif isinstance(environment_configuration, BrittleStarDirectedLocomotionEnvironmentConfiguration):\n",
    "        env_class = BrittleStarDirectedLocomotionEnvironment\n",
    "    else:\n",
    "        env_class = BrittleStarLightEscapeEnvironment\n",
    "\n",
    "    env = env_class.from_morphology_and_arena(\n",
    "            morphology=morphology, arena=arena, configuration=environment_configuration, backend=backend\n",
    "            )\n",
    "    return env"
   ]
  },
  {
   "cell_type": "markdown",
   "metadata": {
    "collapsed": false,
    "jupyter": {
     "outputs_hidden": false
    }
   },
   "source": [
    "Given the above utility functions, the next code snippet instantiates the environment and renders a single frame. \n",
    "Use this to test the influence of different parameters and configurations.\n",
    "\n",
    "Note: MJX environments tend to take a bit longer to initialise as this invokes JAX's initialisation."
   ]
  },
  {
   "cell_type": "code",
   "execution_count": null,
   "metadata": {
    "collapsed": false,
    "jupyter": {
     "outputs_hidden": false
    }
   },
   "outputs": [],
   "source": [
    "morphology_specification = default_brittle_star_morphology_specification(\n",
    "        num_arms=5, num_segments_per_arm=4, use_p_control=True, use_torque_control=False\n",
    "        )\n",
    "arena_configuration = AquariumArenaConfiguration(\n",
    "        size=(10, 5), sand_ground_color=True, attach_target=True, wall_height=1.5, wall_thickness=0.1\n",
    "        )\n",
    "environment_configuration = target_locomotion_environment_configuration\n",
    "\n",
    "BACKEND = \"MJC\"\n",
    "\n",
    "env = create_environment(\n",
    "        morphology_specification=morphology_specification,\n",
    "        arena_configuration=arena_configuration,\n",
    "        environment_configuration=environment_configuration,\n",
    "        backend=BACKEND\n",
    "        )\n",
    "\n",
    "if BACKEND == \"MJC\":\n",
    "    rng = np.random.RandomState(0)\n",
    "else:\n",
    "    rng = jax.random.PRNGKey(seed=0)\n",
    "\n",
    "state = env.reset(rng=rng)  # Always need to reset the environment before doing anything else with it\n",
    "frame = env.render(state=state)\n",
    "media.show_image(post_render(render_output=frame, environment_configuration=environment_configuration))\n",
    "env.close()  # always close the environment after using it!"
   ]
  },
  {
   "cell_type": "markdown",
   "metadata": {
    "collapsed": false,
    "jupyter": {
     "outputs_hidden": false
    }
   },
   "source": [
    "## Using the environment\n",
    "In this section we will check how we can now actually use the environments. Let's start by instantiating both an MJC and MJX variant."
   ]
  },
  {
   "cell_type": "code",
   "execution_count": null,
   "metadata": {
    "collapsed": false,
    "jupyter": {
     "outputs_hidden": false
    }
   },
   "outputs": [],
   "source": [
    "mjc_env = create_environment(\n",
    "        morphology_specification=morphology_specification,\n",
    "        arena_configuration=arena_configuration,\n",
    "        environment_configuration=environment_configuration,\n",
    "        backend=\"MJC\"\n",
    "        )\n",
    "mjx_env = create_environment(\n",
    "        morphology_specification=morphology_specification,\n",
    "        arena_configuration=arena_configuration,\n",
    "        environment_configuration=environment_configuration,\n",
    "        backend=\"MJX\"\n",
    "        )"
   ]
  },
  {
   "cell_type": "markdown",
   "metadata": {
    "id": "HGaNtSd-GK5k"
   },
   "source": [
    "### Observation space\n",
    "The observation describes the dimensionality and range of the observations that the environment returns upon reset and after taking a step. As both the MJC and MJX variants implement the same environment, although with a different backend, they have the same observation space (order in which different observations are printed might be a bit different though)."
   ]
  },
  {
   "cell_type": "code",
   "execution_count": null,
   "metadata": {
    "colab": {
     "base_uri": "https://localhost:8080/"
    },
    "id": "VOu3oM4ZS1mm",
    "outputId": "4088bc68-107d-4684-b0db-46e56763b0e2"
   },
   "outputs": [],
   "source": [
    "print(\"MJC:\")\n",
    "print(f\"\\t{mjc_env.observation_space}\")\n",
    "print(\"MJX:\")\n",
    "print(f\"\\t{mjx_env.observation_space}\")"
   ]
  },
  {
   "cell_type": "markdown",
   "metadata": {
    "id": "Gd65GNHyGMlY"
   },
   "source": [
    "### Action space\n",
    "The action space describes the dimensionality and range of actions the environment expects in order to take a step. In essence, the environment maps each given action to the control signal of an actuator. Each joint is given an actuator that can control the joints position (either directly through position actuators or indirectly through torque actuators). For the in-plane joints, a positive actuator signal means that the segment will point leftwards (when looking at the segment from the central disc), and rightwards for a negative actuator signal. For the out-of-plane joints, a positive actuator signal means that the segment will point upwards and downwards for a negative actuator signal. "
   ]
  },
  {
   "cell_type": "code",
   "execution_count": null,
   "metadata": {
    "colab": {
     "base_uri": "https://localhost:8080/"
    },
    "id": "Tc9zKb81bEwB",
    "outputId": "496a166e-56cd-4c9b-9331-264fe9e168d9"
   },
   "outputs": [],
   "source": [
    "print(\"MJC:\")\n",
    "print(f\"\\t{mjc_env.action_space}\")\n",
    "print(\"MJX:\")\n",
    "print(f\"\\t{mjx_env.action_space}\")"
   ]
  },
  {
   "cell_type": "markdown",
   "metadata": {
    "collapsed": false,
    "jupyter": {
     "outputs_hidden": false
    }
   },
   "source": [
    "To help in knowing which action is mapped to which actuator, the following call returns a list of actuator names such that `actions[i]` is mapped to `actuator[i]`. This order is always the same between MJC and MJX."
   ]
  },
  {
   "cell_type": "code",
   "execution_count": null,
   "metadata": {
    "collapsed": false,
    "jupyter": {
     "outputs_hidden": false
    }
   },
   "outputs": [],
   "source": [
    "print(\"First 5 actuators:\")\n",
    "print(f\"\\tMJC: {mjc_env.actuators[:5]}\")\n",
    "print(f\"\\tMJX: {mjx_env.actuators[:5]}\")"
   ]
  },
  {
   "cell_type": "markdown",
   "metadata": {
    "collapsed": false,
    "jupyter": {
     "outputs_hidden": false
    }
   },
   "source": [
    "### Running and visualizing an episode\n",
    "Now we will run the simulation environment and visualize it. As shown below, this happens in a similar manner for both the MJC and the MJX variants, as both follow the interface defined in [moojoco](https://github.com/Co-Evolve/moojoco/blob/main/moojoco/environment/base.py). This interface follows the functional programming paradigm. Put simply, this means that we rely only on pure functions (i.e. functions that are deterministic and without side effects). Consequently, when interacting with the environment, we will always have an explicit environment state that is passed around (instead of relying on the environment to adapt its state). The main difference between the MJC and MJX variants is that the MJC variant uses [MJCEnvState](https://github.com/Co-Evolve/moojoco/blob/main/moojoco/environment/mjc_env.py#L29) (which contains Numpy arrays and Numpy's random states), while the MJX variant uses [MJXEnvState](https://github.com/Co-Evolve/moojoco/blob/main/moojoco/environment/mjx_env.py#L58) (which contains JAX arrays and JAX's random number generators).\n",
    "\n",
    "The most important variables stored in the environment state are:\n",
    "- `observations`: a dictionary mapping an observation's identifier to its values\n",
    "- `terminated`: boolean value that denotes whether the episode is terminated (e.g. because the goal was reached)\n",
    "- `truncated`: boolean value that denotes whether the episode was truncated (e.g. because the time limit was reached)\n",
    "- `reward`: float value that denotes the reward of doing the given actions in the previous state\n",
    "- `info`: a dictionary that the environment can use to pass additional information to the user\n",
    "- `rng`: the current random number generator's state\n",
    "\n",
    "Note1: Always reset the environment when the current episode has been terminated or truncated.\n",
    "\n",
    "Note2: When rendering the environment, you might want to increase the resolution to increase visibility (rendering will be slower then though). This can be done through the [environment configuration](https://github.com/Co-Evolve/moojoco/blob/main/moojoco/environment/base.py#L29)'s `render_size` attribute, which denotes the `(height, width)` in pixels.\n",
    "\n",
    "#### MJC"
   ]
  },
  {
   "cell_type": "code",
   "execution_count": null,
   "metadata": {
    "collapsed": false,
    "jupyter": {
     "outputs_hidden": false
    }
   },
   "outputs": [],
   "source": [
    "mjc_env_rng = np.random.RandomState(seed=0)\n",
    "\n",
    "mjc_state = mjc_env.reset(rng=mjc_env_rng)\n",
    "\n",
    "mjc_frames = []\n",
    "while not (mjc_state.terminated | mjc_state.truncated):\n",
    "    # Sample random actions to pass to the environment\n",
    "    action = mjc_env.action_space.sample()\n",
    "    mjc_state = mjc_env.step(state=mjc_state, action=action)\n",
    "    mjc_frames.append(post_render(mjc_env.render(state=mjc_state), mjc_env.environment_configuration))\n",
    "show_video(images=mjc_frames)"
   ]
  },
  {
   "cell_type": "markdown",
   "metadata": {
    "collapsed": false,
    "jupyter": {
     "outputs_hidden": false
    }
   },
   "source": [
    "#### MJX\n",
    "The first time that you run this cell will take a while because of the JIT-compilation. Subsequent calls will however go faster.\n",
    "Note: As discussed further below, MJX always runs much slower than MJC when running only a single environment (even after jitting) and especially when rendering every step! MJX only shines when we're running many environments simultaneously and skip the rendering."
   ]
  },
  {
   "cell_type": "code",
   "execution_count": null,
   "metadata": {
    "collapsed": false,
    "jupyter": {
     "outputs_hidden": false
    }
   },
   "outputs": [],
   "source": [
    "rng = jax.random.PRNGKey(seed=0)\n",
    "mjx_env_rng, action_rng = jax.random.split(rng, 2)\n",
    "\n",
    "jit_step = jax.jit(mjx_env.step)\n",
    "jit_reset = jax.jit(mjx_env.reset)\n",
    "\n",
    "mjx_state = jit_reset(rng=mjx_env_rng)\n",
    "\n",
    "mjx_frames = []\n",
    "while not (mjx_state.terminated | mjx_state.truncated):\n",
    "    action_rng, sub_rng = jax.random.split(action_rng, 2)\n",
    "    action = mjx_env.action_space.sample(rng=sub_rng)\n",
    "\n",
    "    mjx_state = jit_step(state=mjx_state, action=action)\n",
    "    mjx_frames.append(post_render(mjx_env.render(state=mjx_state), mjx_env.environment_configuration))\n",
    "show_video(images=mjx_frames)"
   ]
  },
  {
   "cell_type": "markdown",
   "metadata": {
    "id": "fOmP560VbMd3"
   },
   "source": [
    "Avoid memory leaks and always close your environment after using!"
   ]
  },
  {
   "cell_type": "code",
   "execution_count": null,
   "metadata": {
    "collapsed": false,
    "jupyter": {
     "outputs_hidden": false
    }
   },
   "outputs": [],
   "source": [
    "mjc_env.close()\n",
    "mjx_env.close()"
   ]
  },
  {
   "cell_type": "markdown",
   "metadata": {
    "collapsed": false,
    "jupyter": {
     "outputs_hidden": false
    }
   },
   "source": [
    "### Vectorization\n",
    "During optimization we often want multiple environments to run in parallel as this increases data collection speed. For instance with evolutionary optimization, this allows to evaluate multiple candidate solutions in parallel. Alternatively in the reinforcement learning setting, this can be used to simultaneously collect data from slightly different environment versions if we use randomization or noise."
   ]
  },
  {
   "cell_type": "markdown",
   "metadata": {
    "collapsed": false,
    "jupyter": {
     "outputs_hidden": false
    }
   },
   "source": [
    "#### MJC\n",
    "MJC runs on the CPU, so when we want to run multiple instances of the environment in parallel, we can choose between multithreading and multiprocessing. In this case, we'll go for multiprocessing and use moojoco' [ThreadedVectorMJCEnvWrapper](https://github.com/Co-Evolve/moojoco/blob/main/moojoco/environment/mjc_env.py#L173). Given [Python's Global Interpreter Lock](https://wiki.python.org/moin/GlobalInterpreterLock), the environment's python code will thus not run truly in parallel; the underlying calls to the MuJoCo physics engine however will. When vectorizing over the CPU, we often use one environment instance for CPU core available."
   ]
  },
  {
   "cell_type": "code",
   "execution_count": null,
   "metadata": {
    "collapsed": false,
    "jupyter": {
     "outputs_hidden": false
    }
   },
   "outputs": [],
   "source": [
    "from moojoco.environment.mjc_env import ThreadedVectorMJCEnvWrapper\n",
    "\n",
    "NUM_MJC_ENVIRONMENTS = 2  # set this to the number of CPU cores that you have available \n",
    "\n",
    "mjc_vectorized_env = ThreadedVectorMJCEnvWrapper(\n",
    "        lambda: create_environment(\n",
    "                morphology_specification=morphology_specification,\n",
    "                arena_configuration=arena_configuration,\n",
    "                environment_configuration=environment_configuration,\n",
    "                backend=\"MJC\"\n",
    "                ), num_environments=NUM_MJC_ENVIRONMENTS\n",
    "        )\n",
    "\n",
    "mjc_vectorized_env_rng = [np.random.RandomState(seed=i) for i in range(NUM_MJC_ENVIRONMENTS)]\n",
    "\n",
    "mjc_vectorized_state = mjc_vectorized_env.reset(rng=mjc_vectorized_env_rng)\n",
    "\n",
    "mjc_frames = []\n",
    "while not np.any(mjc_vectorized_state.terminated | mjc_vectorized_state.truncated):\n",
    "    action = mjc_vectorized_env.action_space.sample()\n",
    "    mjc_vectorized_state = mjc_vectorized_env.step(state=mjc_vectorized_state, action=action)\n",
    "    mjc_frames.append(\n",
    "            post_render(\n",
    "                    mjc_vectorized_env.render(state=mjc_vectorized_state), mjc_vectorized_env.environment_configuration\n",
    "                    )\n",
    "            )\n",
    "show_video(images=mjc_frames)"
   ]
  },
  {
   "cell_type": "markdown",
   "metadata": {
    "collapsed": false,
    "jupyter": {
     "outputs_hidden": false
    }
   },
   "source": [
    "As illustrated below by the adapted `observation_space` and `action_space`, our environment will now return a batched version of the original observations, and expect a batched version of the original actions. Each sample in these batches corresponds to the observations and actions of a single underlying environment."
   ]
  },
  {
   "cell_type": "code",
   "execution_count": null,
   "metadata": {
    "collapsed": false,
    "jupyter": {
     "outputs_hidden": false
    }
   },
   "outputs": [],
   "source": [
    "print(\"Observation space:\")\n",
    "print(f\"\\t{mjc_vectorized_env.observation_space}\")\n",
    "print(\"Action space:\")\n",
    "print(f\"\\t{mjc_vectorized_env.action_space}\")"
   ]
  },
  {
   "cell_type": "markdown",
   "metadata": {
    "collapsed": false,
    "jupyter": {
     "outputs_hidden": false
    }
   },
   "source": [
    "#### MJX\n",
    "\n",
    "The MJX environment can also be vectorized on the CPU, but it's main performance advantage comes from parallelization on the GPU (which JAX enables). MJX basically implements environment / physics steps as operator over big Jax arrays (e.g. an array of all current joint positions, one with all current joint velocities, ...). To parallelize, it just adds an additional batch dimension over these arrays via [jax.vmap](https://jax.readthedocs.io/en/latest/jax-101/03-vectorization.html). When vectorizing over the GPU, we often run one environment instance per CUDA core available (this can be found on your GPU's datasheet). The cool thing is that a single GPU has a lot more of these cores than the number of CPU cores your computer (or even a regular cluster) has. \n",
    "\n",
    "As a rule-of-thumb:\n",
    "- Use MJC when you want to run a single environment (e.g. to do a quick test or to visualize a single rollout).\n",
    "- Use MJX when you (1) have a GPU available, and (2) are doing an optimization.\n",
    "- Read: https://mujoco.readthedocs.io/en/stable/mjx.html#mjx-the-sharp-bits\n",
    "\n",
    "Note: Rendering MJX environments requires the JAX datastructures (on the GPU) to be loaded back into the original MuJoCo structures (on the CPU). This datatransfer has a severe impact; So never render when collecting data during an optimization! (This rule also counts for MJC environments: rendering slows down everything, so only do it when necessary!)"
   ]
  },
  {
   "cell_type": "code",
   "execution_count": null,
   "metadata": {
    "collapsed": false,
    "jupyter": {
     "outputs_hidden": false
    }
   },
   "outputs": [],
   "source": [
    "NUM_MJX_ENVIRONMENTS = 2  # set this to the number of CUDA cores that you have available\n",
    "\n",
    "mjx_vectorized_env = create_environment(\n",
    "        morphology_specification=morphology_specification,\n",
    "        arena_configuration=arena_configuration,\n",
    "        environment_configuration=environment_configuration,\n",
    "        backend=\"MJX\"\n",
    "        )\n",
    "\n",
    "mjx_action_rng, mjx_vectorized_env_rng = jax.random.split(jax.random.PRNGKey(0), 2)\n",
    "mjx_vectorized_env_rng = jnp.array(jax.random.split(mjx_vectorized_env_rng, NUM_MJX_ENVIRONMENTS))\n",
    "\n",
    "mjx_vectorized_step = jax.jit(jax.vmap(mjx_vectorized_env.step))\n",
    "mjx_vectorized_reset = jax.jit(jax.vmap(mjx_vectorized_env.reset))\n",
    "mjx_vectorized_action_sample = jax.jit(jax.vmap(mjx_vectorized_env.action_space.sample))"
   ]
  },
  {
   "cell_type": "code",
   "execution_count": null,
   "metadata": {
    "collapsed": false,
    "jupyter": {
     "outputs_hidden": false
    }
   },
   "outputs": [],
   "source": [
    "mjx_vectorized_state = mjx_vectorized_reset(rng=mjx_vectorized_env_rng)\n",
    "\n",
    "mjx_frames = []\n",
    "while not jnp.any(mjx_vectorized_state.terminated | mjx_vectorized_state.truncated):\n",
    "    mjx_action_rng, *sub_rngs = jnp.array(jax.random.split(mjx_action_rng, NUM_MJX_ENVIRONMENTS + 1))\n",
    "    action = mjx_vectorized_action_sample(rng=jnp.array(sub_rngs))\n",
    "\n",
    "    mjx_vectorized_state = mjx_vectorized_step(state=mjx_vectorized_state, action=action)\n",
    "    mjx_frames.append(\n",
    "            post_render(\n",
    "                    mjx_vectorized_env.render(state=mjx_vectorized_state), mjx_vectorized_env.environment_configuration\n",
    "                    )\n",
    "            )\n",
    "show_video(images=mjx_frames)"
   ]
  },
  {
   "cell_type": "code",
   "execution_count": null,
   "metadata": {
    "collapsed": false,
    "jupyter": {
     "outputs_hidden": false
    }
   },
   "outputs": [],
   "source": [
    "print(\"Observation space:\")\n",
    "print(f\"\\t{mjx_vectorized_env.observation_space}\")\n",
    "print(\"Action space:\")\n",
    "print(f\"\\t{mjx_vectorized_env.action_space}\")"
   ]
  },
  {
   "cell_type": "code",
   "execution_count": null,
   "metadata": {
    "collapsed": false,
    "jupyter": {
     "outputs_hidden": false
    }
   },
   "outputs": [],
   "source": [
    "mjc_vectorized_env.close()\n",
    "mjx_vectorized_env.close()"
   ]
  },
  {
   "cell_type": "markdown",
   "metadata": {
    "collapsed": false,
    "jupyter": {
     "outputs_hidden": false
    }
   },
   "source": [
    "## Exercise\n",
    "Play around with the different brittle star environments. Take a closer look at the different observations, try to do a speed comparison between MJC and MJX environments, ..."
   ]
  },
  {
   "cell_type": "code",
   "execution_count": null,
   "metadata": {},
   "outputs": [],
   "source": []
  }
 ],
 "metadata": {
  "accelerator": "GPU",
  "colab": {
   "gpuType": "T4",
   "provenance": [],
   "toc_visible": true
  },
  "kernelspec": {
   "display_name": "biorobot-kernel",
   "language": "python",
   "name": "biorobot-kernel"
  },
  "language_info": {
   "codemirror_mode": {
    "name": "ipython",
    "version": 3
   },
   "file_extension": ".py",
   "mimetype": "text/x-python",
   "name": "python",
   "nbconvert_exporter": "python",
   "pygments_lexer": "ipython3",
   "version": "3.11.11"
  }
 },
 "nbformat": 4,
 "nbformat_minor": 4
}
